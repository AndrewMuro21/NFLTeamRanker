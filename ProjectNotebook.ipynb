{
 "cells": [
  {
   "cell_type": "markdown",
   "metadata": {},
   "source": [
    "# Welcome to Team Ranker-NFL Edition(2018)"
   ]
  },
  {
   "cell_type": "markdown",
   "metadata": {},
   "source": [
    "Team Ranker-NFL Edition(2018) is a python program that allows you to see the ranks of all 32 teams in the NFL during the 2018-2019 season, for the following stats:\n",
    "- Wins\n",
    "- Losses\n",
    "- Points For\n",
    "- Points Against\n",
    "\n",
    "For each team's stats, you will be able to see the amount, which rank they are based off of the stat, and which teams they are tied with in this rank. All of this information is provided to you by following a series of prompts that the program asks the user to respond to, and the user inputting their desired response.\n",
    "\n",
    "The data is webscraped from http://www.espn.com/nfl/standings using the python library named Beautiful Soup. "
   ]
  },
  {
   "cell_type": "markdown",
   "metadata": {},
   "source": [
    "# Requirements\n",
    "Python should be installed on your computer. This build of Team Ranker-NFL Edition(2018) was tested with Python version 3.7.3.\n",
    "\n",
    "Requests and Beautiful Soup need to be installed in your python path with:\n",
    "1. pip install requests\n",
    "2. pip install beautifulsoup4"
   ]
  },
  {
   "cell_type": "markdown",
   "metadata": {},
   "source": [
    "# How To Run"
   ]
  },
  {
   "cell_type": "markdown",
   "metadata": {},
   "source": [
    "While in the root directory of this program, simply type the following command into your terminal: python nfl_script.py"
   ]
  },
  {
   "cell_type": "markdown",
   "metadata": {},
   "source": [
    "#### How To Test"
   ]
  },
  {
   "cell_type": "markdown",
   "metadata": {},
   "source": [
    "A tester.py file is included in the folder nfl_module to test some of the functionality used in nfl_script.py. \n",
    "1. From the root directory, you can use the following command: pytest nfl_module/tester.py. \n",
    "2. If you are in the nfl_module directory, use: pytest tester.py."
   ]
  }
 ],
 "metadata": {
  "kernelspec": {
   "display_name": "Python 3",
   "language": "python",
   "name": "python3"
  },
  "language_info": {
   "codemirror_mode": {
    "name": "ipython",
    "version": 3
   },
   "file_extension": ".py",
   "mimetype": "text/x-python",
   "name": "python",
   "nbconvert_exporter": "python",
   "pygments_lexer": "ipython3",
   "version": "3.7.1"
  }
 },
 "nbformat": 4,
 "nbformat_minor": 2
}
